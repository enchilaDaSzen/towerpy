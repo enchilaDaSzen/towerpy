{
 "cells": [
  {
   "cell_type": "markdown",
   "id": "55767416",
   "metadata": {},
   "source": [
    "# How-to: Compute range-defined quasi-vertical profiles\n",
    "\n",
    "Daniel Sanchez-Rivas<sup>1</sup> and Miguel A. Rico-Ramirez<sup>1</sup>\n",
    "\n",
    "<sup>1</sup>Department of Civil Engineering, University of Bristol, Bristol, BS8 1TR, United Kingdom"
   ]
  },
  {
   "cell_type": "markdown",
   "id": "30c8a630",
   "metadata": {},
   "source": [
    "**This notebook describes the process for generating RD-QVPs.**"
   ]
  },
  {
   "cell_type": "markdown",
   "id": "2f04a69d",
   "metadata": {},
   "source": [
    "### Import relevant packages"
   ]
  },
  {
   "cell_type": "code",
   "execution_count": 23,
   "id": "d7ba3abe",
   "metadata": {},
   "outputs": [
    {
     "name": "stdout",
     "output_type": "stream",
     "text": [
      "\n",
      "You are using the Towerpy framework, an open source library for\n",
      "working with polarimetric weather radar data.\n",
      "\n",
      "If you find our work useful for your research, please consider citing our\n",
      "following publication:\n",
      "\n",
      "https://doi.org/10.1016/j.envsoft.105746.2023\n",
      "\n"
     ]
    }
   ],
   "source": [
    "import datetime as dt\n",
    "import os\n",
    "import numpy as np\n",
    "import towerpy as tp\n",
    "import cartopy.crs as ccrs\n",
    "from tqdm import tqdm"
   ]
  },
  {
   "cell_type": "markdown",
   "id": "9cbdce15",
   "metadata": {},
   "source": [
    "### Define working directory, file name and other parameters"
   ]
  },
  {
   "cell_type": "code",
   "execution_count": 25,
   "id": "3b01db77",
   "metadata": {},
   "outputs": [],
   "source": [
    "RSITE = 'dudwick'\n",
    "WDIR = f'../datasets/'\n",
    "\n",
    "SCANS_ELEVS = ['spel1', 'spel2', 'spel3', 'spel4']\n",
    "\n",
    "START_TIME = dt.datetime(2020, 10, 3, 18, 10)\n",
    "STOP_TIME = START_TIME+dt.timedelta(minutes=5)\n",
    "\n",
    "plot_methods = False"
   ]
  },
  {
   "cell_type": "markdown",
   "id": "d7be0180",
   "metadata": {},
   "source": [
    "We'll need a list containing the path and names of the files to be used. \n",
    "Note that four elevation scans will be used to "
   ]
  },
  {
   "cell_type": "code",
   "execution_count": null,
   "id": "f660823e",
   "metadata": {},
   "outputs": [],
   "source": []
  }
 ],
 "metadata": {
  "kernelspec": {
   "display_name": "Python 3 (ipykernel)",
   "language": "python",
   "name": "python3"
  },
  "language_info": {
   "codemirror_mode": {
    "name": "ipython",
    "version": 3
   },
   "file_extension": ".py",
   "mimetype": "text/x-python",
   "name": "python",
   "nbconvert_exporter": "python",
   "pygments_lexer": "ipython3",
   "version": "3.10.10"
  }
 },
 "nbformat": 4,
 "nbformat_minor": 5
}
