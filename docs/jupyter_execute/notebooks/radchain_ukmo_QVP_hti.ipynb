{
 "cells": [
  {
   "cell_type": "markdown",
   "id": "45f2b065",
   "metadata": {},
   "source": [
    "# How-to: Visualise and interact with HTI plots.\n",
    "\n",
    "Daniel Sanchez-Rivas<sup>1</sup> and Miguel A. Rico-Ramirez<sup>1</sup>\n",
    "\n",
    "<sup>1</sup>Department of Civil Engineering, University of Bristol, Bristol, BS8 1TR, United Kingdom"
   ]
  },
  {
   "cell_type": "markdown",
   "id": "53fde31a",
   "metadata": {},
   "source": [
    "## This notebook displays an HTI plot using Quasi-Vertical-Profiles built from 9&deg; elevation angle scans.\n",
    "\n",
    "Chenies C-band rain radar dual-polarisation products are available at https://catalogue.ceda.ac.uk/uuid/bb3c55e36b4a4dc8866f0a06be3d475b (Met Office, 2013)"
   ]
  },
  {
   "cell_type": "markdown",
   "id": "8467f44d",
   "metadata": {},
   "source": [
    "### Import relevant packages\n"
   ]
  },
  {
   "cell_type": "code",
   "execution_count": 1,
   "id": "ba39d508",
   "metadata": {},
   "outputs": [
    {
     "name": "stdout",
     "output_type": "stream",
     "text": [
      "\n",
      "You are using the Towerpy framework, an open source library for\n",
      "working with polarimetric weather radar data.\n",
      "\n",
      "If you find our work useful for your research, please consider citing our\n",
      "following publication:\n",
      "\n",
      "https://doi.org/10.1016/j.envsoft.105746.2023\n",
      "\n"
     ]
    }
   ],
   "source": [
    "import pickle\n",
    "import towerpy as tp\n",
    "\n",
    "%matplotlib notebook"
   ]
  },
  {
   "cell_type": "markdown",
   "id": "d8b11057",
   "metadata": {},
   "source": [
    "### We load data that were previously processed to generate single QVPs (using the *pol_qvps* function) and to detect the ML signatures within each profile (using the *ml_detection* function)."
   ]
  },
  {
   "cell_type": "code",
   "execution_count": 2,
   "id": "aa121741",
   "metadata": {},
   "outputs": [],
   "source": [
    "rsite = 'chenies'\n",
    "fdir = f'../../../datasets/{rsite}/y2020/spel4/'\n",
    "\n",
    "with open(fdir+'qvps.tpy', 'rb') as f:\n",
    "    rprofs = pickle.load(f)\n",
    "\n",
    "with open(fdir+'mlyrsqvps.tpy', 'rb') as f:\n",
    "    rmlyr = pickle.load(f)"
   ]
  },
  {
   "cell_type": "markdown",
   "id": "232363b2",
   "metadata": {},
   "source": [
    "### The **rad_interactive** module\n",
    "\n",
    "This module helps explore the HTI plots. For instance, the **user can click within the HTI plot to display a single QVP.** The right panel of the plot shows the selected QVP. Additionally, the polarimetric variable can be switched using the bottoms at the top of the panel."
   ]
  },
  {
   "cell_type": "code",
   "execution_count": 3,
   "id": "9227f92b",
   "metadata": {},
   "outputs": [
    {
     "ename": "UnboundLocalError",
     "evalue": "local variable 'profsvars' referenced before assignment",
     "output_type": "error",
     "traceback": [
      "\u001b[0;31m---------------------------------------------------------------------------\u001b[0m",
      "\u001b[0;31mUnboundLocalError\u001b[0m                         Traceback (most recent call last)",
      "Cell \u001b[0;32mIn[3], line 1\u001b[0m\n\u001b[0;32m----> 1\u001b[0m radb \u001b[38;5;241m=\u001b[39m \u001b[43mtp\u001b[49m\u001b[38;5;241;43m.\u001b[39;49m\u001b[43mdatavis\u001b[49m\u001b[38;5;241;43m.\u001b[39;49m\u001b[43mrad_interactive\u001b[49m\u001b[38;5;241;43m.\u001b[39;49m\u001b[43mhti_base\u001b[49m\u001b[43m(\u001b[49m\u001b[43mrprofs\u001b[49m\u001b[43m,\u001b[49m\u001b[43m \u001b[49m\u001b[43mmlyrs\u001b[49m\u001b[38;5;241;43m=\u001b[39;49m\u001b[43mrmlyr\u001b[49m\u001b[43m,\u001b[49m\u001b[43m \u001b[49m\u001b[43mstats\u001b[49m\u001b[38;5;241;43m=\u001b[39;49m\u001b[38;5;124;43m'\u001b[39;49m\u001b[38;5;124;43mstd_dev\u001b[39;49m\u001b[38;5;124;43m'\u001b[39;49m\u001b[43m,\u001b[49m\n\u001b[1;32m      2\u001b[0m \u001b[43m                                           \u001b[49m\u001b[43mptype\u001b[49m\u001b[38;5;241;43m=\u001b[39;49m\u001b[38;5;124;43m'\u001b[39;49m\u001b[38;5;124;43mfcontour\u001b[39;49m\u001b[38;5;124;43m'\u001b[39;49m\u001b[43m,\u001b[49m\n\u001b[1;32m      3\u001b[0m \u001b[43m                                           \u001b[49m\u001b[43mvar2plot\u001b[49m\u001b[38;5;241;43m=\u001b[39;49m\u001b[38;5;124;43m'\u001b[39;49m\u001b[38;5;124;43mrhoHV [-]\u001b[39;49m\u001b[38;5;124;43m'\u001b[39;49m\u001b[43m,\u001b[49m\n\u001b[1;32m      4\u001b[0m \u001b[43m                                           \u001b[49m\u001b[38;5;66;43;03m# contourl='ZH [dBZ]',\u001b[39;49;00m\n\u001b[1;32m      5\u001b[0m \u001b[43m                                           \u001b[49m\u001b[43mhtiylim\u001b[49m\u001b[38;5;241;43m=\u001b[39;49m\u001b[43m[\u001b[49m\u001b[38;5;241;43m0\u001b[39;49m\u001b[43m,\u001b[49m\u001b[43m \u001b[49m\u001b[38;5;241;43m8\u001b[39;49m\u001b[43m]\u001b[49m\u001b[43m,\u001b[49m\u001b[43m \u001b[49m\u001b[43mtz\u001b[49m\u001b[38;5;241;43m=\u001b[39;49m\u001b[38;5;124;43m'\u001b[39;49m\u001b[38;5;124;43mEurope/London\u001b[39;49m\u001b[38;5;124;43m'\u001b[39;49m\u001b[43m)\u001b[49m\n\u001b[1;32m      6\u001b[0m radexpvis \u001b[38;5;241m=\u001b[39m tp\u001b[38;5;241m.\u001b[39mdatavis\u001b[38;5;241m.\u001b[39mrad_interactive\u001b[38;5;241m.\u001b[39mHTI_Int()\n\u001b[1;32m      7\u001b[0m radb\u001b[38;5;241m.\u001b[39mon_clicked(radexpvis\u001b[38;5;241m.\u001b[39mhzfunc)\n",
      "File \u001b[0;32m~/Documents/mygithub/enchilaDaSzen/towerpy/towerpy/datavis/rad_interactive.py:994\u001b[0m, in \u001b[0;36mhti_base\u001b[0;34m(pol_profs, mlyrs, stats, var2plot, ucmap, vars_bounds, ptype, contourl, htixlim, htiylim, tz, fig_size)\u001b[0m\n\u001b[1;32m    991\u001b[0m     mlyrtop \u001b[38;5;241m=\u001b[39m \u001b[38;5;28;01mNone\u001b[39;00m\n\u001b[1;32m    992\u001b[0m     mlyrbot \u001b[38;5;241m=\u001b[39m \u001b[38;5;28;01mNone\u001b[39;00m\n\u001b[1;32m    993\u001b[0m plotunits \u001b[38;5;241m=\u001b[39m [i[i\u001b[38;5;241m.\u001b[39mfind(\u001b[38;5;124m'\u001b[39m\u001b[38;5;124m[\u001b[39m\u001b[38;5;124m'\u001b[39m):]\n\u001b[0;32m--> 994\u001b[0m              \u001b[38;5;28;01mfor\u001b[39;00m i \u001b[38;5;129;01min\u001b[39;00m \u001b[43mprofsvars\u001b[49m\u001b[38;5;241m.\u001b[39mkeys() \u001b[38;5;28;01mif\u001b[39;00m var2plot \u001b[38;5;241m==\u001b[39m i][\u001b[38;5;241m0\u001b[39m]\n\u001b[1;32m    995\u001b[0m plotvname \u001b[38;5;241m=\u001b[39m [i[:i\u001b[38;5;241m.\u001b[39mfind(\u001b[38;5;124m'\u001b[39m\u001b[38;5;124m[\u001b[39m\u001b[38;5;124m'\u001b[39m)\u001b[38;5;241m-\u001b[39m\u001b[38;5;241m1\u001b[39m]\n\u001b[1;32m    996\u001b[0m              \u001b[38;5;28;01mfor\u001b[39;00m i \u001b[38;5;129;01min\u001b[39;00m profsvars\u001b[38;5;241m.\u001b[39mkeys() \u001b[38;5;28;01mif\u001b[39;00m var2plot \u001b[38;5;241m==\u001b[39m i][\u001b[38;5;241m0\u001b[39m]\n\u001b[1;32m    998\u001b[0m \u001b[38;5;66;03m# -------------------------------------------------------------------------\u001b[39;00m\n",
      "\u001b[0;31mUnboundLocalError\u001b[0m: local variable 'profsvars' referenced before assignment"
     ]
    }
   ],
   "source": [
    "radb = tp.datavis.rad_interactive.hti_base(rprofs, mlyrs=rmlyr, stats='std_dev',\n",
    "                                           ptype='fcontour',\n",
    "                                           var2plot='rhoHV [-]',\n",
    "                                           # contourl='ZH [dBZ]',\n",
    "                                           htiylim=[0, 8], tz='Europe/London')\n",
    "radexpvis = tp.datavis.rad_interactive.HTI_Int()\n",
    "radb.on_clicked(radexpvis.hzfunc)"
   ]
  },
  {
   "cell_type": "markdown",
   "id": "585f718c",
   "metadata": {},
   "source": [
    "## References\n",
    "\n",
    "Met Office: Chenies C-band rain radar dual polar products, NCAS British Atmospheric Data Centre [data set], https://catalogue.ceda.ac.uk/uuid/bb3c55e36b4a4dc8866f0a06be3d475b, 2013.\n"
   ]
  }
 ],
 "metadata": {
  "kernelspec": {
   "display_name": "Python 3 (ipykernel)",
   "language": "python",
   "name": "python3"
  },
  "language_info": {
   "codemirror_mode": {
    "name": "ipython",
    "version": 3
   },
   "file_extension": ".py",
   "mimetype": "text/x-python",
   "name": "python",
   "nbconvert_exporter": "python",
   "pygments_lexer": "ipython3",
   "version": "3.10.10"
  },
  "widgets": {
   "application/vnd.jupyter.widget-state+json": {
    "state": {},
    "version_major": 2,
    "version_minor": 0
   }
  }
 },
 "nbformat": 4,
 "nbformat_minor": 5
}